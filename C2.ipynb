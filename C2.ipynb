{
 "cells": [
  {
   "cell_type": "markdown",
   "metadata": {},
   "source": [
    "# Assignment 2 Python Programming"
   ]
  },
  {
   "cell_type": "markdown",
   "metadata": {},
   "source": [
    "<p>Team Name: Group 1\n",
    "<p>Student Name: Kaden Larussa, Brooks Schafer, Nick Solari\n",
    "<p>Student W#: w0762283, w0711688, w0755643 "
   ]
  },
  {
   "cell_type": "markdown",
   "metadata": {},
   "source": [
    "## Instructions\n",
    "Use generic coding style unless hard-coded values are really necessary.<br>\n",
    "Your code must be efficient and use self-explanatory naming.<br>\n",
    "Use appropriate Python library methods for each task instead of using loops.<br>\n",
    "Run your entire code and save. Then submit this <b>saved</b> copy."
   ]
  },
  {
   "cell_type": "markdown",
   "source": [],
   "metadata": {
    "collapsed": false
   }
  },
  {
   "cell_type": "markdown",
   "metadata": {},
   "source": [
    "## Imports"
   ]
  },
  {
   "cell_type": "code",
   "execution_count": 33,
   "metadata": {
    "collapsed": true,
    "ExecuteTime": {
     "end_time": "2023-09-21T19:44:51.753453900Z",
     "start_time": "2023-09-21T19:44:51.659033Z"
    }
   },
   "outputs": [],
   "source": [
    "import csv\n",
    "import os"
   ]
  },
  {
   "cell_type": "markdown",
   "metadata": {},
   "source": [
    "## <center> Part I </center>"
   ]
  },
  {
   "cell_type": "markdown",
   "metadata": {},
   "source": [
    "### 1) Read  student records from the file Student.csv in INPUT and store into a dictionary \"stdRec\":"
   ]
  },
  {
   "cell_type": "code",
   "execution_count": 34,
   "metadata": {
    "ExecuteTime": {
     "end_time": "2023-09-21T19:44:51.753453900Z",
     "start_time": "2023-09-21T19:44:51.674728800Z"
    }
   },
   "outputs": [],
   "source": [
    "stdRec = {}\n",
    "\n",
    "# read and write to stdRec\n",
    "with open('INPUT/Student.csv', 'r') as file:\n",
    "    csv_reader = csv.DictReader(file)\n",
    "    \n",
    "    for i, row in enumerate(csv_reader):\n",
    "        stdRec[i] = row\n"
   ]
  },
  {
   "cell_type": "markdown",
   "metadata": {},
   "source": [
    "### 2) Store headers into a tuple \"header\":"
   ]
  },
  {
   "cell_type": "code",
   "execution_count": 35,
   "metadata": {
    "collapsed": true,
    "ExecuteTime": {
     "end_time": "2023-09-21T19:44:51.831485700Z",
     "start_time": "2023-09-21T19:44:51.690400800Z"
    }
   },
   "outputs": [],
   "source": [
    "# extract headers \n",
    "if stdRec:\n",
    "    first_entry = list(stdRec.values())[0]\n",
    "    header = tuple(first_entry.keys())\n"
   ]
  },
  {
   "cell_type": "markdown",
   "metadata": {},
   "source": [
    "### 3) Store data into a list \"data\":"
   ]
  },
  {
   "cell_type": "code",
   "execution_count": 36,
   "metadata": {
    "ExecuteTime": {
     "end_time": "2023-09-21T19:44:51.831485700Z",
     "start_time": "2023-09-21T19:44:51.693693100Z"
    }
   },
   "outputs": [],
   "source": [
    "data = []\n",
    "\n",
    "data = list(stdRec.values())"
   ]
  },
  {
   "cell_type": "markdown",
   "metadata": {},
   "source": [
    "### 4) Ask user to enter a student number to search \"data\" for the W# and return all his/her grades for the classes taken:"
   ]
  },
  {
   "cell_type": "code",
   "execution_count": 37,
   "metadata": {
    "collapsed": true,
    "ExecuteTime": {
     "end_time": "2023-09-21T19:44:53.747415400Z",
     "start_time": "2023-09-21T19:44:51.706460100Z"
    }
   },
   "outputs": [
    {
     "name": "stdout",
     "output_type": "stream",
     "text": [
      "Grades for student with ID 123456:\n",
      "Course: 285, Midterm: 72, Final: 84\n",
      "Course: 315, Midterm: 63, Final: 76\n"
     ]
    }
   ],
   "source": [
    "\n",
    "student_number_to_search = input(\"Please enter the student number (W#) to search for: \")\n",
    "\n",
    "# make a list to store the grades\n",
    "student_grades = []\n",
    "\n",
    "# Search id\n",
    "for record in data:\n",
    "    if record['STUDENT ID'] == student_number_to_search:\n",
    "        course_id = record['COURSE ID']\n",
    "        midterm = record['MIDTERM']\n",
    "        final = record['FINAL']\n",
    "        student_grades.append(f\"Course: {course_id}, Midterm: {midterm}, Final: {final}\")\n",
    "\n",
    "# print grades and w#\n",
    "if student_grades:\n",
    "    print(f\"Grades for student with ID {student_number_to_search}:\")\n",
    "    for grade in student_grades:\n",
    "        print(grade)\n",
    "else:\n",
    "    print(f\"No records found for student with ID {student_number_to_search}.\")\n"
   ]
  },
  {
   "cell_type": "markdown",
   "metadata": {},
   "source": [
    "### 5) Write the search result into a file with a file name which is consisted of W# and extention \"csv\". The file will be stored into the folder \"RESULT\". The first line of the file will have headers:"
   ]
  },
  {
   "cell_type": "code",
   "execution_count": 38,
   "metadata": {
    "collapsed": true,
    "ExecuteTime": {
     "end_time": "2023-09-21T19:44:53.748416500Z",
     "start_time": "2023-09-21T19:44:53.652318700Z"
    }
   },
   "outputs": [
    {
     "name": "stdout",
     "output_type": "stream",
     "text": [
      "Search results saved to W123456.csv\n"
     ]
    }
   ],
   "source": [
    "if not os.path.exists('RESULT'):\n",
    "    os.makedirs('RESULT')\n",
    "\n",
    "# if grades were found, construct the file\n",
    "if student_grades:\n",
    "    # construct file\n",
    "    filename = f\"W{student_number_to_search}.csv\"\n",
    "\n",
    "    # open the file\n",
    "    with open(filename, 'w', newline='') as file:\n",
    "        csv_writer = csv.writer(file)\n",
    "\n",
    "        # write headers\n",
    "        csv_writer.writerow([\"COURSE ID\", \"MIDTERM\", \"FINAL\"])\n",
    "\n",
    "        # write the students grades\n",
    "        for record in data:\n",
    "            if record['STUDENT ID'] == student_number_to_search:\n",
    "                csv_writer.writerow([record['COURSE ID'], record['MIDTERM'], record['FINAL']])\n",
    "                \n",
    "    print(f\"Search results saved to {filename}\")\n",
    "else:\n",
    "    print(f\"No records found for student with ID {student_number_to_search}.\")\n",
    "    \n",
    "#move created file to RESULT folder\n",
    "if not os.path.exists(f\"RESULT/{filename}\"):\n",
    "    os.rename(filename, f\"RESULT/{filename}\")\n"
   ]
  },
  {
   "cell_type": "markdown",
   "metadata": {},
   "source": [
    "## <center> Part II </center>"
   ]
  },
  {
   "cell_type": "markdown",
   "metadata": {},
   "source": [
    "### 1) Ask user to enter two strings \"reference\" and \"pattern\":"
   ]
  },
  {
   "cell_type": "code",
   "execution_count": 39,
   "metadata": {
    "collapsed": true,
    "ExecuteTime": {
     "end_time": "2023-09-21T19:44:55.793720700Z",
     "start_time": "2023-09-21T19:44:53.661263200Z"
    }
   },
   "outputs": [],
   "source": [
    "reference = input(\"Please enter the reference string: \")\n",
    "pattern = input(\"Please enter the pattern string: \")"
   ]
  },
  {
   "cell_type": "markdown",
   "metadata": {},
   "source": [
    "### 2) Check if the pattern string is in the reference string. Display the result together with the input data:"
   ]
  },
  {
   "cell_type": "code",
   "execution_count": 40,
   "metadata": {
    "collapsed": true,
    "ExecuteTime": {
     "end_time": "2023-09-21T19:44:55.794724400Z",
     "start_time": "2023-09-21T19:44:55.776766700Z"
    }
   },
   "outputs": [
    {
     "name": "stdout",
     "output_type": "stream",
     "text": [
      "Reference String: \n",
      "Pattern String: \n",
      "Pattern Exists: True\n"
     ]
    }
   ],
   "source": [
    "pattern_exists = pattern in reference\n",
    "print(f\"Reference String: {reference}\")\n",
    "print(f\"Pattern String: {pattern}\")\n",
    "print(f\"Pattern Exists: {pattern_exists}\")"
   ]
  },
  {
   "cell_type": "markdown",
   "metadata": {},
   "source": [
    "### 3) Split characters of both strings into the sets \"sRef\" and \"sPat\":"
   ]
  },
  {
   "cell_type": "code",
   "execution_count": 41,
   "metadata": {
    "collapsed": true,
    "ExecuteTime": {
     "end_time": "2023-09-21T19:44:55.794724400Z",
     "start_time": "2023-09-21T19:44:55.785237100Z"
    }
   },
   "outputs": [],
   "source": [
    "sRef = set(reference)\n",
    "sPat = set(pattern)"
   ]
  },
  {
   "cell_type": "markdown",
   "metadata": {},
   "source": [
    "### 4) Check if sPat is a subset of sRef. Display the result together with the input data:"
   ]
  },
  {
   "cell_type": "code",
   "execution_count": 42,
   "metadata": {
    "collapsed": true,
    "ExecuteTime": {
     "end_time": "2023-09-21T19:44:55.820975400Z",
     "start_time": "2023-09-21T19:44:55.791724400Z"
    }
   },
   "outputs": [
    {
     "name": "stdout",
     "output_type": "stream",
     "text": [
      "Reference string: \n",
      "Pattern string: \n",
      "Set of Reference string: set()\n",
      "Set of Pattern string: set()\n",
      "Is the pattern set a subset of the reference set? True\n"
     ]
    }
   ],
   "source": [
    "# Check if sPat is a subset of sRef\n",
    "is_subset = sPat.issubset(sRef)\n",
    "\n",
    "# Display the result along with the input data\n",
    "print(f\"Reference string: {reference}\")\n",
    "print(f\"Pattern string: {pattern}\")\n",
    "print(f\"Set of Reference string: {sRef}\")\n",
    "print(f\"Set of Pattern string: {sPat}\")\n",
    "print(f\"Is the pattern set a subset of the reference set? {is_subset}\")"
   ]
  }
 ],
 "metadata": {
  "kernelspec": {
   "display_name": "Python 3",
   "language": "python",
   "name": "python3"
  },
  "language_info": {
   "codemirror_mode": {
    "name": "ipython",
    "version": 3
   },
   "file_extension": ".py",
   "mimetype": "text/x-python",
   "name": "python",
   "nbconvert_exporter": "python",
   "pygments_lexer": "ipython3",
   "version": "3.9.13"
  }
 },
 "nbformat": 4,
 "nbformat_minor": 2
}
