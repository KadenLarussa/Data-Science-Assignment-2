{
 "cells": [
  {
   "cell_type": "markdown",
   "metadata": {},
   "source": [
    "# Assignment 2 Python Programming"
   ]
  },
  {
   "cell_type": "markdown",
   "metadata": {},
   "source": [
    "<p>Team Name: Group 1\n",
    "<p>Student Name: Kaden Larussa, Brooks Schafer, Nick Solari\n",
    "<p>Student W#: w0762283, w0711688, w0755643 "
   ]
  },
  {
   "cell_type": "markdown",
   "metadata": {},
   "source": [
    "## Instructions\n",
    "Use generic coding style unless hard-coded values are really necessary.<br>\n",
    "Your code must be efficient and use self-explanatory naming.<br>\n",
    "Use appropriate Python library methods for each task instead of using loops.<br>\n",
    "Run your entire code and save. Then submit this <b>saved</b> copy."
   ]
  },
  {
   "cell_type": "markdown",
   "source": [],
   "metadata": {
    "collapsed": false
   }
  },
  {
   "cell_type": "markdown",
   "metadata": {},
   "source": [
    "## Imports"
   ]
  },
  {
   "cell_type": "code",
   "execution_count": 12,
   "metadata": {
    "collapsed": true,
    "ExecuteTime": {
     "end_time": "2023-09-15T04:08:36.001667100Z",
     "start_time": "2023-09-15T04:08:35.988146300Z"
    }
   },
   "outputs": [],
   "source": [
    "import csv\n",
    "import os"
   ]
  },
  {
   "cell_type": "markdown",
   "metadata": {},
   "source": [
    "## <center> Part I </center>"
   ]
  },
  {
   "cell_type": "markdown",
   "metadata": {},
   "source": [
    "### 1) Read  student records from the file Student.csv in INPUT and store into a dictionary \"stdRec\":"
   ]
  },
  {
   "cell_type": "code",
   "execution_count": 5,
   "metadata": {
    "ExecuteTime": {
     "end_time": "2023-09-15T04:00:24.009659800Z",
     "start_time": "2023-09-15T04:00:23.993554Z"
    }
   },
   "outputs": [
    {
     "name": "stdout",
     "output_type": "stream",
     "text": [
      "{0: {'STUDENT ID': '123547', 'STUDENT FIRST NAME': 'Joe', 'STUDENT LAST NAME': 'Wesley', 'COURSE ID': '340', 'MIDTERM': '82', 'FINAL': '75'}, 1: {'STUDENT ID': '123879', 'STUDENT FIRST NAME': 'Tim', 'STUDENT LAST NAME': 'Timberland', 'COURSE ID': '340', 'MIDTERM': '68', 'FINAL': '73'}, 2: {'STUDENT ID': '123987', 'STUDENT FIRST NAME': 'John', 'STUDENT LAST NAME': 'Wilson', 'COURSE ID': '380', 'MIDTERM': '54', 'FINAL': '76'}, 3: {'STUDENT ID': '123879', 'STUDENT FIRST NAME': 'Tim', 'STUDENT LAST NAME': 'Timberland', 'COURSE ID': '420', 'MIDTERM': '90', 'FINAL': '85'}, 4: {'STUDENT ID': '123547', 'STUDENT FIRST NAME': 'Joe', 'STUDENT LAST NAME': 'Wesley', 'COURSE ID': '415', 'MIDTERM': '74', 'FINAL': '76'}, 5: {'STUDENT ID': '123987', 'STUDENT FIRST NAME': 'John', 'STUDENT LAST NAME': 'Wilson', 'COURSE ID': '340', 'MIDTERM': '69', 'FINAL': '82'}, 6: {'STUDENT ID': '123547', 'STUDENT FIRST NAME': 'Joe', 'STUDENT LAST NAME': 'Wesley', 'COURSE ID': '390', 'MIDTERM': '86', 'FINAL': '92'}, 7: {'STUDENT ID': '123456', 'STUDENT FIRST NAME': 'Matt', 'STUDENT LAST NAME': 'Wright', 'COURSE ID': '285', 'MIDTERM': '72', 'FINAL': '84'}, 8: {'STUDENT ID': '123456', 'STUDENT FIRST NAME': 'Matt', 'STUDENT LAST NAME': 'Wright', 'COURSE ID': '315', 'MIDTERM': '63', 'FINAL': '76'}}\n"
     ]
    }
   ],
   "source": [
    "stdRec = {}\n",
    "\n",
    "# read and write to stdRec\n",
    "with open('INPUT/Student.csv', 'r') as file:\n",
    "    csv_reader = csv.DictReader(file)\n",
    "    \n",
    "    for i, row in enumerate(csv_reader):\n",
    "        stdRec[i] = row\n"
   ]
  },
  {
   "cell_type": "markdown",
   "metadata": {},
   "source": [
    "### 2) Store headers into a tuple \"header\":"
   ]
  },
  {
   "cell_type": "code",
   "execution_count": 8,
   "metadata": {
    "collapsed": true,
    "ExecuteTime": {
     "end_time": "2023-09-15T04:04:00.584723900Z",
     "start_time": "2023-09-15T04:04:00.569668300Z"
    }
   },
   "outputs": [
    {
     "name": "stdout",
     "output_type": "stream",
     "text": [
      "('STUDENT ID', 'STUDENT FIRST NAME', 'STUDENT LAST NAME', 'COURSE ID', 'MIDTERM', 'FINAL')\n",
      "{'STUDENT ID': '123547', 'STUDENT FIRST NAME': 'Joe', 'STUDENT LAST NAME': 'Wesley', 'COURSE ID': '340', 'MIDTERM': '82', 'FINAL': '75'}\n"
     ]
    }
   ],
   "source": [
    "# extract headers \n",
    "if stdRec:\n",
    "    first_entry = list(stdRec.values())[0]\n",
    "    header = tuple(first_entry.keys())\n"
   ]
  },
  {
   "cell_type": "markdown",
   "metadata": {},
   "source": [
    "### 3) Store data into a list \"data\":"
   ]
  },
  {
   "cell_type": "code",
   "execution_count": 9,
   "metadata": {
    "ExecuteTime": {
     "end_time": "2023-09-15T04:05:23.094353100Z",
     "start_time": "2023-09-15T04:05:23.084831700Z"
    }
   },
   "outputs": [],
   "source": [
    "data = []\n",
    "\n",
    "data = list(stdRec.values())"
   ]
  },
  {
   "cell_type": "markdown",
   "metadata": {},
   "source": [
    "### 4) Ask user to enter a student number to search \"data\" for the W# and return all his/her grades for the classes taken:"
   ]
  },
  {
   "cell_type": "code",
   "execution_count": 10,
   "metadata": {
    "collapsed": true,
    "ExecuteTime": {
     "end_time": "2023-09-15T04:06:59.578428400Z",
     "start_time": "2023-09-15T04:06:47.363477600Z"
    }
   },
   "outputs": [
    {
     "name": "stdout",
     "output_type": "stream",
     "text": [
      "Grades for student with ID 123456:\n",
      "Course: 285, Midterm: 72, Final: 84\n",
      "Course: 315, Midterm: 63, Final: 76\n"
     ]
    }
   ],
   "source": [
    "\n",
    "student_number_to_search = input(\"Please enter the student number (W#) to search for: \")\n",
    "\n",
    "# make a list to store the grades\n",
    "student_grades = []\n",
    "\n",
    "# Search id\n",
    "for record in data:\n",
    "    if record['STUDENT ID'] == student_number_to_search:\n",
    "        course_id = record['COURSE ID']\n",
    "        midterm = record['MIDTERM']\n",
    "        final = record['FINAL']\n",
    "        student_grades.append(f\"Course: {course_id}, Midterm: {midterm}, Final: {final}\")\n",
    "\n",
    "# print grades and w#\n",
    "if student_grades:\n",
    "    print(f\"Grades for student with ID {student_number_to_search}:\")\n",
    "    for grade in student_grades:\n",
    "        print(grade)\n",
    "else:\n",
    "    print(f\"No records found for student with ID {student_number_to_search}.\")\n"
   ]
  },
  {
   "cell_type": "markdown",
   "metadata": {},
   "source": [
    "### 5) Write the search result into a file with a file name which is consisted of W# and extention \"csv\". The file will be stored into the folder \"RESULT\". The first line of the file will have headers:"
   ]
  },
  {
   "cell_type": "code",
   "execution_count": 15,
   "metadata": {
    "collapsed": true,
    "ExecuteTime": {
     "end_time": "2023-09-15T04:09:20.066805100Z",
     "start_time": "2023-09-15T04:09:20.057310300Z"
    }
   },
   "outputs": [
    {
     "name": "stdout",
     "output_type": "stream",
     "text": [
      "Search results saved to W123456.csv\n"
     ]
    }
   ],
   "source": [
    "if not os.path.exists('RESULT'):\n",
    "    os.makedirs('RESULT')\n",
    "\n",
    "# if grades were found, construct the file\n",
    "if student_grades:\n",
    "    # construct file\n",
    "    filename = f\"W{student_number_to_search}.csv\"\n",
    "\n",
    "    # open the file\n",
    "    with open(filename, 'w', newline='') as file:\n",
    "        csv_writer = csv.writer(file)\n",
    "\n",
    "        # write headers\n",
    "        csv_writer.writerow([\"COURSE ID\", \"MIDTERM\", \"FINAL\"])\n",
    "\n",
    "        # write the students grades\n",
    "        for record in data:\n",
    "            if record['STUDENT ID'] == student_number_to_search:\n",
    "                csv_writer.writerow([record['COURSE ID'], record['MIDTERM'], record['FINAL']])\n",
    "                \n",
    "    print(f\"Search results saved to {filename}\")\n",
    "else:\n",
    "    print(f\"No records found for student with ID {student_number_to_search}.\")"
   ]
  },
  {
   "cell_type": "markdown",
   "metadata": {},
   "source": [
    "## <center> Part II </center>"
   ]
  },
  {
   "cell_type": "markdown",
   "metadata": {},
   "source": [
    "### 1) Ask user to enter two strings \"reference\" and \"pattern\":"
   ]
  },
  {
   "cell_type": "code",
   "execution_count": 16,
   "metadata": {
    "collapsed": true,
    "ExecuteTime": {
     "end_time": "2023-09-15T04:11:57.709663300Z",
     "start_time": "2023-09-15T04:11:49.938008900Z"
    }
   },
   "outputs": [],
   "source": [
    "reference = input(\"Please enter the reference string: \")\n",
    "pattern = input(\"Please enter the pattern string: \")"
   ]
  },
  {
   "cell_type": "markdown",
   "metadata": {},
   "source": [
    "### 2) Check if the pattern string is in the reference string. Display the result together with the input data:"
   ]
  },
  {
   "cell_type": "code",
   "execution_count": 17,
   "metadata": {
    "collapsed": true,
    "ExecuteTime": {
     "end_time": "2023-09-15T04:12:00.136039200Z",
     "start_time": "2023-09-15T04:12:00.125690400Z"
    }
   },
   "outputs": [
    {
     "name": "stdout",
     "output_type": "stream",
     "text": [
      "Reference String: test\n",
      "Pattern String: test2\n",
      "Pattern Exists: False\n"
     ]
    }
   ],
   "source": [
    "pattern_exists = pattern in reference\n",
    "print(f\"Reference String: {reference}\")\n",
    "print(f\"Pattern String: {pattern}\")\n",
    "print(f\"Pattern Exists: {pattern_exists}\")"
   ]
  },
  {
   "cell_type": "markdown",
   "metadata": {},
   "source": [
    "### 3) Split characters of both strings into the sets \"sRef\" and \"sPat\":"
   ]
  },
  {
   "cell_type": "code",
   "execution_count": 20,
   "metadata": {
    "collapsed": true,
    "ExecuteTime": {
     "end_time": "2023-09-15T04:14:14.573216400Z",
     "start_time": "2023-09-15T04:14:14.563167100Z"
    }
   },
   "outputs": [],
   "source": [
    "sRef = set(reference)\n",
    "sPat = set(pattern)"
   ]
  },
  {
   "cell_type": "markdown",
   "metadata": {},
   "source": [
    "### 4) Check if sPat is a subset of sRef. Display the result together with the input data:"
   ]
  },
  {
   "cell_type": "code",
   "execution_count": 21,
   "metadata": {
    "collapsed": true,
    "ExecuteTime": {
     "end_time": "2023-09-15T04:14:15.591985500Z",
     "start_time": "2023-09-15T04:14:15.579694100Z"
    }
   },
   "outputs": [
    {
     "name": "stdout",
     "output_type": "stream",
     "text": [
      "Reference string: test\n",
      "Pattern string: test2\n",
      "Set of Reference string: {'s', 't', 'e'}\n",
      "Set of Pattern string: {'s', 't', '2', 'e'}\n",
      "Is the pattern set a subset of the reference set? False\n"
     ]
    }
   ],
   "source": [
    "# Check if sPat is a subset of sRef\n",
    "is_subset = sPat.issubset(sRef)\n",
    "\n",
    "# Display the result along with the input data\n",
    "print(f\"Reference string: {reference}\")\n",
    "print(f\"Pattern string: {pattern}\")\n",
    "print(f\"Set of Reference string: {sRef}\")\n",
    "print(f\"Set of Pattern string: {sPat}\")\n",
    "print(f\"Is the pattern set a subset of the reference set? {is_subset}\")"
   ]
  }
 ],
 "metadata": {
  "kernelspec": {
   "display_name": "Python 3",
   "language": "python",
   "name": "python3"
  },
  "language_info": {
   "codemirror_mode": {
    "name": "ipython",
    "version": 3
   },
   "file_extension": ".py",
   "mimetype": "text/x-python",
   "name": "python",
   "nbconvert_exporter": "python",
   "pygments_lexer": "ipython3",
   "version": "3.9.13"
  }
 },
 "nbformat": 4,
 "nbformat_minor": 2
}
